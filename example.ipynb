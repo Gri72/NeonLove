{
 "cells": [
  {
   "cell_type": "code",
   "execution_count": 13,
   "id": "6a8c1597-37fb-4fb2-8196-a7bc84d1aa5d",
   "metadata": {},
   "outputs": [],
   "source": [
    "import NeonLove as nl"
   ]
  },
  {
   "cell_type": "code",
   "execution_count": 16,
   "id": "9d2cecb5-3d20-47b4-b967-a7a7884da8ad",
   "metadata": {},
   "outputs": [
    {
     "data": {
      "text/plain": [
       "<bound method NeonLove.show of <NeonLove.neonlove_class.NeonLove object at 0x11edc6a60>>"
      ]
     },
     "execution_count": 16,
     "metadata": {},
     "output_type": "execute_result"
    }
   ],
   "source": [
    "nl.NeonLove(save_fig=True).show"
   ]
  },
  {
   "cell_type": "code",
   "execution_count": 25,
   "id": "f525aa8c-9d4d-43be-a831-9dd6b79c848a",
   "metadata": {},
   "outputs": [
    {
     "name": "stdout",
     "output_type": "stream",
     "text": [
      "usage: twine [-h] [--version] [--no-color] {check,upload,register}\n",
      "\n",
      "positional arguments:\n",
      "  {check,upload,register}\n",
      "\n",
      "optional arguments:\n",
      "  -h, --help            show this help message and exit\n",
      "  --version             show program's version number and exit\n",
      "  --no-color            disable colored output\n"
     ]
    }
   ],
   "source": [
    "# !pip install setuptools wheel twine"
   ]
  },
  {
   "cell_type": "code",
   "execution_count": 27,
   "id": "d9a2ed88-c93e-420f-8d33-6be2a95ae970",
   "metadata": {},
   "outputs": [
    {
     "name": "stdout",
     "output_type": "stream",
     "text": [
      "/Users/grinder/Documents/Python/Python АлгБио/Семестр 2/NeonLove\n"
     ]
    }
   ],
   "source": [
    "!pwd"
   ]
  },
  {
   "cell_type": "code",
   "execution_count": 29,
   "id": "0b00a511-74c4-4da3-9c3c-48ace2a97303",
   "metadata": {},
   "outputs": [],
   "source": [
    "!ln -s .gitignore gitignore"
   ]
  },
  {
   "cell_type": "code",
   "execution_count": 30,
   "id": "dcc9d675-bdfd-4ffa-812e-cb0bdb140530",
   "metadata": {},
   "outputs": [
    {
     "name": "stdout",
     "output_type": "stream",
     "text": [
      "\u001b[34m.\u001b[m\u001b[m                  .gitignore         NeonLove.png       setup.cfg\n",
      "\u001b[34m..\u001b[m\u001b[m                 \u001b[34m.ipynb_checkpoints\u001b[m\u001b[m example.ipynb      setup.py\n",
      "..txt              \u001b[34mNeonLove\u001b[m\u001b[m           \u001b[35mgitignore\u001b[m\u001b[m\n"
     ]
    }
   ],
   "source": [
    "!ls -a"
   ]
  },
  {
   "cell_type": "code",
   "execution_count": null,
   "id": "7a9ac8e4-792f-48b6-b97e-addaaecba724",
   "metadata": {},
   "outputs": [],
   "source": []
  }
 ],
 "metadata": {
  "kernelspec": {
   "display_name": "Sample_Storage_Oncobox",
   "language": "python",
   "name": "sample_storage_oncobox"
  },
  "language_info": {
   "codemirror_mode": {
    "name": "ipython",
    "version": 3
   },
   "file_extension": ".py",
   "mimetype": "text/x-python",
   "name": "python",
   "nbconvert_exporter": "python",
   "pygments_lexer": "ipython3",
   "version": "3.9.16"
  }
 },
 "nbformat": 4,
 "nbformat_minor": 5
}
